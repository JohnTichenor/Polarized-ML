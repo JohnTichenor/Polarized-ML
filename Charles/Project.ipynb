{
 "cells": [
  {
   "attachments": {},
   "cell_type": "markdown",
   "metadata": {},
   "source": [
    "## Goal: Analyze the correlations between the factors we have created and the anisotropy matrix generated from the polarized spectra "
   ]
  },
  {
   "cell_type": "code",
   "execution_count": 5,
   "metadata": {},
   "outputs": [],
   "source": [
    "import os\n",
    "import pickle\n",
    "\n",
    "import numpy as np\n",
    "import pandas as pd\n",
    "import seaborn as sns\n",
    "import matplotlib.pyplot as plt\n",
    "\n",
    "from pathlib import Path\n",
    "\n",
    "# Standardizing Plots\n",
    "plt.rcParams['axes.labelsize'] = 20\n",
    "plt.rcParams['axes.titlesize'] = 25\n",
    "plt.rcParams['xtick.direction'] = 'in'\n",
    "plt.rcParams['ytick.direction'] = 'in'\n",
    "plt.rcParams['xtick.labelsize'] = 15\n",
    "plt.rcParams['ytick.labelsize'] = 15\n",
    "plt.rcParams['lines.linewidth'] = 2\n",
    "plt.rcParams['legend.fontsize'] = 15\n",
    "plt.rcParams['legend.loc'] = 'upper left'\n",
    "plt.rcParams['legend.fancybox'] = True\n",
    "plt.rcParams['figure.figsize'] = (10, 6)\n",
    "\n",
    "plt.rcParams['font.family'] = 'serif'\n",
    "plt.rcParams['font.serif'] = 'Times New Roman'\n",
    "plt.rcParams['mathtext.fontset'] = 'custom'\n",
    "plt.rcParams['mathtext.rm'] = 'Times New Roman'"
   ]
  },
  {
   "attachments": {},
   "cell_type": "markdown",
   "metadata": {},
   "source": [
    "### Data Exploration"
   ]
  },
  {
   "cell_type": "code",
   "execution_count": 42,
   "metadata": {},
   "outputs": [
    {
     "data": {
      "text/plain": [
       "['CoS2_factor_dictionary.txt',\n",
       " 'Cr203_factor_dictionary.txt',\n",
       " 'CrPbO4_factor_dictionary.txt',\n",
       " 'Fe2O3_factor_dictionary.txt',\n",
       " 'LiMnP_factor_dictionary.txt',\n",
       " 'MnO_factor_dictionary.txt',\n",
       " 'NiO_factor_dictionary.txt',\n",
       " 'Sr2CuO3_factor_dictionary.txt',\n",
       " 'TmNiC2_factor_dictionary.txt',\n",
       " 'V2O5_factor_dictionary.txt',\n",
       " 'Y2TiO5_factor_dictionary.txt',\n",
       " 'ZnS_factor_dictionary.txt']"
      ]
     },
     "execution_count": 42,
     "metadata": {},
     "output_type": "execute_result"
    }
   ],
   "source": [
    "factor_dict_dir_path = Path('..\\\\Data\\\\factor_dictionary\\\\')\n",
    "os.listdir(factor_dict_dir_path)"
   ]
  },
  {
   "cell_type": "code",
   "execution_count": 43,
   "metadata": {},
   "outputs": [
    {
     "name": "stdout",
     "output_type": "stream",
     "text": [
      "dict_keys(['Material', 'Steinhart Vector', 'Steinhart Parameter Sum', 'band_gap', 'oxidation_state', 'possible_species', 'density', 'quadrupole moment', 'quadrupole moment normalized'])\n",
      "Material CoS2\n",
      "Steinhart Vector ([0.026923139384568175, 3.562684099915903e-18, 0.001815416798598674, 6.6787601789609585e-18, 0.020362629920496835, 1.2736755761031287e-17, 0.010238640661916671, 1.2816402922153213e-17, 0.018779294740504375, 2.1917955476639138e-17, 0.012299585387824725], 'CoS2')\n",
      "Steinhart Parameter Sum 0.09041870689390952\n",
      "band_gap 0.0\n",
      "oxidation_state 4\n",
      "possible_species ['Co4+', 'S2-']\n",
      "density 4.849095401441955\n",
      "quadrupole moment [[ 3.55271368e-15  4.36054258e+00  4.36054258e+00]\n",
      " [ 4.36054258e+00 -1.06581410e-14  4.36054258e+00]\n",
      " [ 4.36054258e+00  4.36054258e+00  7.10542736e-15]]\n",
      "quadrupole moment normalized [[ 2.22044605e-16  2.72533911e-01  2.72533911e-01]\n",
      " [ 2.72533911e-01 -6.66133815e-16  2.72533911e-01]\n",
      " [ 2.72533911e-01  2.72533911e-01  4.44089210e-16]]\n"
     ]
    }
   ],
   "source": [
    "# CoS2 Factor Dictionaries\n",
    "\n",
    "with open(factor_dict_dir_path / 'CoS2_factor_dictionary.txt', 'rb') as file:\n",
    "    CoS2 = pickle.load(file)\n",
    "print(CoS2.keys())\n",
    "\n",
    "for key, val in CoS2.items():\n",
    "    print(key, val)"
   ]
  },
  {
   "cell_type": "code",
   "execution_count": 44,
   "metadata": {},
   "outputs": [
    {
     "name": "stdout",
     "output_type": "stream",
     "text": [
      "          m00       m01       m02       m10  m11       m12       m20  \\\n",
      "Material                                                               \n",
      "Y2TiO5    0.0  0.432346  0.428979  0.432346  0.0  0.239362  0.428979   \n",
      "V2O5      0.0  0.123250  0.436309  0.123250  0.0  0.511185  0.436309   \n",
      "Cr2O3     0.0  0.000008  0.112632  0.000008  0.0  0.112626  0.112632   \n",
      "CrPbO4    0.0  0.127756  0.066659  0.127756  0.0  0.097652  0.066659   \n",
      "LiMnP     0.0  0.000001  0.208893  0.000001  0.0  0.208893  0.208893   \n",
      "\n",
      "               m21  m22  \n",
      "Material                 \n",
      "Y2TiO5    0.239362  0.0  \n",
      "V2O5      0.511185  0.0  \n",
      "Cr2O3     0.112626  0.0  \n",
      "CrPbO4    0.097652  0.0  \n",
      "LiMnP     0.208893  0.0  \n"
     ]
    }
   ],
   "source": [
    "anisotropy_matrix_path = Path(\"..\\\\Data\\\\Wed1\\\\anisotropy_data.csv\")\n",
    "anisotropy_matrix = pd.read_csv(anisotropy_matrix_path)\n",
    "anisotropy_matrix.set_index('parent_dir', inplace=True)\n",
    "anisotropy_matrix.index = [name.split('_')[0] for name in anisotropy_matrix.index]\n",
    "anisotropy_matrix.index.name = 'Material'\n",
    "print(anisotropy_matrix.head())"
   ]
  },
  {
   "attachments": {},
   "cell_type": "markdown",
   "metadata": {},
   "source": [
    "#### Material Dictionary Formatting"
   ]
  },
  {
   "cell_type": "code",
   "execution_count": 45,
   "metadata": {},
   "outputs": [
    {
     "name": "stdout",
     "output_type": "stream",
     "text": [
      "['Material', 'ST 0', 'ST 1', 'ST 2', 'ST 3', 'ST 4', 'ST 5', 'ST 6', 'ST 7', 'ST 8', 'ST 9', 'ST 10', 'Steinhart Parameter Sum', 'band_gap', 'oxidation_state', 'possible_species', 'density', 'QM 0', 'QM 1', 'QM 2', 'QM 3', 'QM 4', 'QM 5', 'QM 6', 'QM 7', 'QM 8', 'QM Norm 0', 'QM Norm 1', 'QM Norm 2', 'QM Norm 3', 'QM Norm 4', 'QM Norm 5', 'QM Norm 6', 'QM Norm 7', 'QM Norm 8']\n",
      "              ST 0          ST 1          ST 2          ST 3      ST 4  \\\n",
      "Material                                                                 \n",
      "CoS2      0.026923  3.562684e-18  1.815417e-03  6.678760e-18  0.020363   \n",
      "Cr2O3     0.062571  6.051352e-03  7.456023e-04  1.018819e-02  0.043804   \n",
      "CrPbO4    0.075711  1.022337e-03  3.375536e-03  5.624809e-02  0.038469   \n",
      "Fe2O3     0.063556  2.752807e-02  1.389350e-02  4.646688e-02  0.043597   \n",
      "LiMnP     0.029022  6.932334e-18  1.795132e-03  2.151267e-02  0.014701   \n",
      "MnO       0.056633  9.503577e-04  5.734463e-04  2.389813e-03  0.043057   \n",
      "NiO       0.059718  2.523857e-18  3.205182e-18  6.947740e-18  0.045610   \n",
      "Sr2CuO3   0.063956  1.584472e-18  3.197890e-02  7.807842e-18  0.053029   \n",
      "TmNiC2    0.085957  1.411483e-02  4.592506e-02  4.955623e-02  0.040202   \n",
      "V2O5      0.068704  4.554526e-03  6.568011e-03  3.567910e-02  0.038511   \n",
      "Y2TiO5    0.065955  4.580452e-03  4.213115e-03  3.510826e-02  0.032856   \n",
      "ZnS       0.026794  3.683154e-06  1.208312e-07  1.997088e-02  0.013643   \n",
      "\n",
      "                  ST 5      ST 6          ST 7      ST 8          ST 9  ...  \\\n",
      "Material                                                                ...   \n",
      "CoS2      1.273676e-17  0.010239  1.281640e-17  0.018779  2.191796e-17  ...   \n",
      "Cr2O3     1.820502e-02  0.019007  2.101373e-02  0.032591  2.733671e-02  ...   \n",
      "CrPbO4    6.866412e-03  0.047271  4.578849e-02  0.018548  3.927885e-02  ...   \n",
      "Fe2O3     2.186910e-02  0.035109  4.622651e-02  0.033498  2.713884e-02  ...   \n",
      "LiMnP     3.520516e-03  0.018050  1.736510e-02  0.007713  1.513324e-02  ...   \n",
      "MnO       3.703119e-03  0.019884  5.043484e-03  0.040015  6.315280e-03  ...   \n",
      "NiO       7.959564e-18  0.021114  1.254673e-17  0.042882  1.399884e-17  ...   \n",
      "Sr2CuO3   8.145838e-18  0.037498  1.357015e-17  0.051033  1.470242e-17  ...   \n",
      "TmNiC2    3.355943e-02  0.032724  5.601283e-02  0.032655  4.243196e-02  ...   \n",
      "V2O5      2.527578e-02  0.024604  4.071364e-02  0.023273  2.391510e-02  ...   \n",
      "Y2TiO5    3.183966e-02  0.024739  2.810661e-02  0.029731  3.196681e-02  ...   \n",
      "ZnS       5.052950e-06  0.016841  1.639649e-02  0.005701  1.387729e-02  ...   \n",
      "\n",
      "                  QM 8     QM Norm 0     QM Norm 1     QM Norm 2  \\\n",
      "Material                                                           \n",
      "CoS2      7.105427e-15  2.220446e-16  2.725339e-01  2.725339e-01   \n",
      "Cr2O3     4.659551e-01 -2.912219e-02 -2.220446e-16 -5.551115e-16   \n",
      "CrPbO4    1.140446e-01 -1.091143e-01  2.036935e-02  1.697196e-01   \n",
      "Fe2O3     1.014690e+01 -6.341810e-01 -5.551115e-16 -5.551115e-16   \n",
      "LiMnP    -7.832939e+00  2.610980e-01 -6.368403e-16 -2.220446e-16   \n",
      "MnO       7.757747e-01 -1.551625e-01 -1.165937e-15 -2.220446e-16   \n",
      "NiO       7.105427e-15  8.881784e-16 -1.056864e-15 -4.024210e-16   \n",
      "Sr2CuO3  -1.483766e+01  3.820268e+00 -9.304321e-16 -5.697254e-32   \n",
      "TmNiC2   -3.870919e+01  7.523011e+00 -1.030660e-15 -4.930381e-32   \n",
      "V2O5      1.328780e+01 -5.150503e-01 -9.992007e-16 -1.110223e-16   \n",
      "Y2TiO5   -2.339102e+00  8.804779e-01 -6.661338e-16  1.721089e-01   \n",
      "ZnS      -1.775719e-02  5.549121e-04 -4.440892e-16  0.000000e+00   \n",
      "\n",
      "             QM Norm 3     QM Norm 4     QM Norm 5     QM Norm 6  \\\n",
      "Material                                                           \n",
      "CoS2      2.725339e-01 -6.661338e-16  2.725339e-01  2.725339e-01   \n",
      "Cr2O3    -5.551115e-16 -2.912219e-02 -6.661338e-16 -5.551115e-16   \n",
      "CrPbO4    2.036935e-02  9.485868e-02  4.969110e-02  1.697196e-01   \n",
      "Fe2O3    -3.330669e-16 -6.341810e-01 -6.661338e-16 -4.440892e-16   \n",
      "LiMnP    -6.368403e-16  2.610980e-01 -2.220446e-16 -2.220446e-16   \n",
      "MnO      -1.165937e-15  5.819071e-02  0.000000e+00  0.000000e+00   \n",
      "NiO      -1.056864e-15  8.881784e-16 -4.024210e-16 -4.024210e-16   \n",
      "Sr2CuO3  -9.304321e-16 -1.965560e+00 -3.542798e-16 -5.697254e-32   \n",
      "TmNiC2   -1.030660e-15 -1.071479e+00 -8.881784e-16 -4.930381e-32   \n",
      "V2O5     -9.992007e-16 -1.145925e+00  4.463723e-01 -2.220446e-16   \n",
      "Y2TiO5   -7.771561e-16 -5.880901e-01 -3.053113e-16  1.721089e-01   \n",
      "ZnS      -4.440892e-16  5.549121e-04 -1.110223e-16  0.000000e+00   \n",
      "\n",
      "             QM Norm 7     QM Norm 8  \n",
      "Material                              \n",
      "CoS2      2.725339e-01  4.440892e-16  \n",
      "Cr2O3    -6.661338e-16  5.824438e-02  \n",
      "CrPbO4    4.969110e-02  1.425557e-02  \n",
      "Fe2O3    -6.661338e-16  1.268362e+00  \n",
      "LiMnP    -2.220446e-16 -5.221959e-01  \n",
      "MnO       0.000000e+00  9.697184e-02  \n",
      "NiO      -4.024210e-16  8.881784e-16  \n",
      "Sr2CuO3  -3.542798e-16 -1.854708e+00  \n",
      "TmNiC2   -4.440892e-16 -6.451532e+00  \n",
      "V2O5      4.463723e-01  1.660975e+00  \n",
      "Y2TiO5   -2.983724e-16 -2.923878e-01  \n",
      "ZnS      -1.110223e-16 -1.109824e-03  \n",
      "\n",
      "[12 rows x 34 columns]\n"
     ]
    }
   ],
   "source": [
    "data_list = []\n",
    "\n",
    "for file_path in factor_dict_dir_path.glob('*.txt'):\n",
    "    with open(file_path, 'rb') as file:\n",
    "        material_dict = pickle.load(file)\n",
    "\n",
    "        # Extract individual values, keeping only numerical stuff\n",
    "        material = material_dict['Material']\n",
    "        steinhart_vector = material_dict['Steinhart Vector'][0]  # Just the vector, ignoring the material name\n",
    "        steinhart_param_sum = material_dict['Steinhart Parameter Sum']\n",
    "        band_gap = material_dict['band_gap']\n",
    "        oxidation_state = material_dict['oxidation_state']\n",
    "        possible_species = len(material_dict['possible_species'])\n",
    "        density = material_dict['density']\n",
    "        quadrupole_moment = material_dict['quadrupole moment'].flatten()  # Flatten matrix to vector\n",
    "        quadrupole_moment_norm = material_dict['quadrupole moment normalized'].flatten()\n",
    "\n",
    "        # Combine all the features into a single row (list)\n",
    "        data_row = [\n",
    "            material,\n",
    "            *steinhart_vector,  # Unpack vector values\n",
    "            steinhart_param_sum,\n",
    "            band_gap,\n",
    "            oxidation_state,\n",
    "            possible_species,\n",
    "            density,\n",
    "            *quadrupole_moment,  # Unpack matrix values\n",
    "            *quadrupole_moment_norm  # Unpack normalized matrix values\n",
    "        ]\n",
    "        \n",
    "        data_list.append(data_row)\n",
    "\n",
    "# Define the column names\n",
    "columns = ['Material'] + [f\"ST {i}\" for i in range(11)] # Steinhart vector values from 0 to 10\n",
    "columns += ['Steinhart Parameter Sum', 'band_gap', 'oxidation_state', 'possible_species', 'density']\n",
    "columns += [f'QM {i}' for i in range(9)] # Flattened quadrupole matrix\n",
    "columns += [f'QM Norm {i}' for i in range(9)] # Flattened quadrupole matrix (normalized)\n",
    "\n",
    "print(columns)\n",
    "\n",
    "factor_df = pd.DataFrame(data_list, columns=columns)\n",
    "factor_df.set_index('Material', inplace=True)\n",
    "\n",
    "print(factor_df)"
   ]
  },
  {
   "attachments": {},
   "cell_type": "markdown",
   "metadata": {},
   "source": [
    "### Analyze correlations using Ordinary Least Squares (OLS)\n",
    "\n",
    "#### Factor contributions\n",
    "\n",
    "I'm going to start with only the un-normalized quadrupole moments\n",
    "\n",
    "#### Anisotropy matrix formatting\n",
    "\n",
    "I'm going to simplify the anisotropy matrix down to its base value by just summing all the values to get only a single 'anisotropy parameter' that I will be trying to predict. Later I'll look at the 3 off diagonal values independently."
   ]
  },
  {
   "cell_type": "code",
   "execution_count": 53,
   "metadata": {},
   "outputs": [
    {
     "name": "stdout",
     "output_type": "stream",
     "text": [
      "Index(['QM 0', 'QM 1', 'QM 2', 'QM 3', 'QM 4', 'QM 5', 'QM 6', 'QM 7', 'QM 8'], dtype='object')\n",
      "                            OLS Regression Results                            \n",
      "==============================================================================\n",
      "Dep. Variable:                      y   R-squared:                       0.938\n",
      "Model:                            OLS   Adj. R-squared:                  0.886\n",
      "Method:                 Least Squares   F-statistic:                     18.05\n",
      "Date:                Sun, 20 Oct 2024   Prob (F-statistic):            0.00148\n",
      "Time:                        17:43:54   Log-Likelihood:                -1.8210\n",
      "No. Observations:                  12   AIC:                             15.64\n",
      "Df Residuals:                       6   BIC:                             18.55\n",
      "Df Model:                           5                                         \n",
      "Covariance Type:            nonrobust                                         \n",
      "==============================================================================\n",
      "                 coef    std err          t      P>|t|      [0.025      0.975]\n",
      "------------------------------------------------------------------------------\n",
      "const          0.3254      0.161      2.017      0.090      -0.069       0.720\n",
      "QM 0           0.0594      0.008      7.499      0.000       0.040       0.079\n",
      "QM 1          -0.5054      0.151     -3.347      0.015      -0.875      -0.136\n",
      "QM 2           0.2914      0.122      2.384      0.054      -0.008       0.590\n",
      "QM 3          -0.5054      0.151     -3.347      0.015      -0.875      -0.136\n",
      "QM 4          -0.0702      0.019     -3.702      0.010      -0.117      -0.024\n",
      "QM 5           0.1749      0.073      2.382      0.055      -0.005       0.355\n",
      "QM 6           0.2914      0.122      2.384      0.054      -0.008       0.590\n",
      "QM 7           0.1749      0.073      2.382      0.055      -0.005       0.355\n",
      "QM 8           0.0107      0.013      0.806      0.451      -0.022       0.043\n",
      "==============================================================================\n",
      "Omnibus:                        1.956   Durbin-Watson:                   2.260\n",
      "Prob(Omnibus):                  0.376   Jarque-Bera (JB):                0.774\n",
      "Skew:                           0.622   Prob(JB):                        0.679\n",
      "Kurtosis:                       3.013   Cond. No.                     9.62e+16\n",
      "==============================================================================\n",
      "\n",
      "Notes:\n",
      "[1] Standard Errors assume that the covariance matrix of the errors is correctly specified.\n",
      "[2] The smallest eigenvalue is 5.51e-31. This might indicate that there are\n",
      "strong multicollinearity problems or that the design matrix is singular.\n"
     ]
    },
    {
     "name": "stderr",
     "output_type": "stream",
     "text": [
      "c:\\Users\\ccard\\.conda\\envs\\Science\\lib\\site-packages\\scipy\\stats\\_stats_py.py:1772: UserWarning: kurtosistest only valid for n>=20 ... continuing anyway, n=12\n",
      "  warnings.warn(\"kurtosistest only valid for n>=20 ... continuing \"\n"
     ]
    }
   ],
   "source": [
    "import statsmodels.api as sm\n",
    "\n",
    "# Define the independent variables (X) and dependent variable (y)\n",
    "X = factor_df[[f'QM {i}' for i in range(9)]] # Only use un-normalized quadrupole moment\n",
    "y = anisotropy_matrix.sum(axis=1)\n",
    "y = y.reindex(X.index)\n",
    "\n",
    "print(X.columns)\n",
    "\n",
    "# Add a constant to the independent variables (intercept term)\n",
    "X = sm.add_constant(X)\n",
    "\n",
    "model = sm.OLS(y, X)\n",
    "results = model.fit()\n",
    "print(results.summary())"
   ]
  },
  {
   "cell_type": "code",
   "execution_count": null,
   "metadata": {},
   "outputs": [],
   "source": []
  }
 ],
 "metadata": {
  "kernelspec": {
   "display_name": "Science",
   "language": "python",
   "name": "python3"
  },
  "language_info": {
   "codemirror_mode": {
    "name": "ipython",
    "version": 3
   },
   "file_extension": ".py",
   "mimetype": "text/x-python",
   "name": "python",
   "nbconvert_exporter": "python",
   "pygments_lexer": "ipython3",
   "version": "3.10.6"
  },
  "orig_nbformat": 4
 },
 "nbformat": 4,
 "nbformat_minor": 2
}
